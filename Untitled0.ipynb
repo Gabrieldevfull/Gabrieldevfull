{
  "nbformat": 4,
  "nbformat_minor": 0,
  "metadata": {
    "colab": {
      "provenance": [],
      "authorship_tag": "ABX9TyPwK5sB9NCmNrqNwlnPP3Od",
      "include_colab_link": true
    },
    "kernelspec": {
      "name": "python3",
      "display_name": "Python 3"
    },
    "language_info": {
      "name": "python"
    }
  },
  "cells": [
    {
      "cell_type": "markdown",
      "metadata": {
        "id": "view-in-github",
        "colab_type": "text"
      },
      "source": [
        "<a href=\"https://colab.research.google.com/github/Gabrieldevfull/Gabrieldevfull/blob/main/Untitled0.ipynb\" target=\"_parent\"><img src=\"https://colab.research.google.com/assets/colab-badge.svg\" alt=\"Open In Colab\"/></a>"
      ]
    },
    {
      "cell_type": "markdown",
      "source": [
        "#Pede ao usuário para inserir um número inteiro maior que 1\n",
        "#O programa deve imprimir todos os números até o número digitado.\n"
      ],
      "metadata": {
        "id": "mgVg6TeVH8yp"
      }
    },
    {
      "cell_type": "code",
      "source": [
        "num = int(input('digite um numero maior que 1 '))\n",
        "cont = 0\n",
        "if (num > 1):\n",
        "  while (cont <= num):\n",
        "    print(cont)\n",
        "    cont+=1\n",
        "else:\n",
        "  print('Digite um numero maior que 1.')"
      ],
      "metadata": {
        "colab": {
          "base_uri": "https://localhost:8080/"
        },
        "id": "XkY1SorhH_iA",
        "outputId": "0732ace7-eb1c-4a25-85b7-8e216250a6ad"
      },
      "execution_count": 12,
      "outputs": [
        {
          "output_type": "stream",
          "name": "stdout",
          "text": [
            "digite um numero maior que 1 5\n",
            "0\n",
            "1\n",
            "2\n",
            "3\n",
            "4\n",
            "5\n"
          ]
        }
      ]
    },
    {
      "cell_type": "markdown",
      "source": [
        "#Pede ao usuário para inserir um número inteiro maior que 0\n",
        "#O programa deve imprimir todos os números até o número digitado."
      ],
      "metadata": {
        "id": "p2jWVKClLvjZ"
      }
    },
    {
      "cell_type": "code",
      "source": [
        "num = int(input('digite um numero maior que 1 '))\n",
        "cont = 0\n",
        "listNumerica = []\n",
        "while (cont <= num):\n",
        "  listNumerica.append(cont)\n",
        "  cont += 1\n",
        "print(sum(listNumerica))"
      ],
      "metadata": {
        "colab": {
          "base_uri": "https://localhost:8080/"
        },
        "id": "p7ZJA0tWLKS6",
        "outputId": "a53bb8ed-81aa-419c-d67b-97ff1ce46e35"
      },
      "execution_count": 14,
      "outputs": [
        {
          "output_type": "stream",
          "name": "stdout",
          "text": [
            "digite um numero maior que 1 10\n",
            "55\n"
          ]
        }
      ]
    },
    {
      "cell_type": "code",
      "source": [
        "num = int(input('digite um numero maior que 1 '))\n",
        "cont = 0\n",
        "soma = 0 \n",
        "while (cont <= num):\n",
        "  soma +=cont\n",
        "  cont += 1\n",
        "print(sum(listNumerica))"
      ],
      "metadata": {
        "colab": {
          "base_uri": "https://localhost:8080/"
        },
        "id": "3aQmiaNFN7YL",
        "outputId": "b28ea066-ff85-4442-e598-5dda82163534"
      },
      "execution_count": 15,
      "outputs": [
        {
          "output_type": "stream",
          "name": "stdout",
          "text": [
            "digite um numero maior que 1 5\n",
            "55\n"
          ]
        }
      ]
    },
    {
      "cell_type": "markdown",
      "source": [
        "#Pede a senha do usuário. E dá 5 chances para o usuário inserir a senha correta."
      ],
      "metadata": {
        "id": "maMfLFZzOeKM"
      }
    },
    {
      "cell_type": "code",
      "source": [
        "senha = 'biel'\n",
        "userPass = input('Digite sua senha:')\n",
        "cont = 0\n",
        "while(cont < 3):\n",
        "  cont+=1\n",
        "  if(userPass == senha):\n",
        "    break\n",
        "  else:\n",
        "    print('Senha Incorreta')\n",
        "    userPass = input('Tente Novamente')\n",
        "\n",
        "if(cont == 3):\n",
        "  print('Senha Bloqueada')\n",
        "else:\n",
        "  print(\"seja bem vindo\")"
      ],
      "metadata": {
        "colab": {
          "base_uri": "https://localhost:8080/"
        },
        "id": "VxgFyVtsOfXE",
        "outputId": "ddad236a-2983-4ac7-b865-007c00c7f0e8"
      },
      "execution_count": 22,
      "outputs": [
        {
          "output_type": "stream",
          "name": "stdout",
          "text": [
            "Digite sua senha:biel\n",
            "seja bem vindo\n"
          ]
        }
      ]
    },
    {
      "cell_type": "markdown",
      "source": [
        "#Altere o código anterior e insira o seguinte critério:\n",
        "#Caso terminem as 5 chances de inserir a senha, o programa deve informar \"tentativas excedidas!\""
      ],
      "metadata": {
        "id": "HxPz31JLT-pX"
      }
    },
    {
      "cell_type": "code",
      "source": [
        "senha = 'biel'\n",
        "userPass = input('Digite sua senha:')\n",
        "cont = 0\n",
        "while(cont < 4):\n",
        "  cont+=1\n",
        "  if(userPass == senha):\n",
        "    break\n",
        "  else:\n",
        "    print('Senha Incorreta')\n",
        "    userPass = input('Tente Novamente:')\n",
        "\n",
        "if(cont == 4):\n",
        "  print('tentativas excedidas!')\n",
        "else:\n",
        "  print(\"seja bem vindo\")"
      ],
      "metadata": {
        "colab": {
          "base_uri": "https://localhost:8080/"
        },
        "id": "iOrDZbbVUB-9",
        "outputId": "331ba187-d7ee-4c52-ccfa-3f486ad816c1"
      },
      "execution_count": 28,
      "outputs": [
        {
          "output_type": "stream",
          "name": "stdout",
          "text": [
            "Digite sua senha:454545\n",
            "Senha Incorreta\n",
            "Tente Novamente:45454\n",
            "Senha Incorreta\n",
            "Tente Novamente:5454\n",
            "Senha Incorreta\n",
            "Tente Novamente:54545\n",
            "Senha Incorreta\n",
            "Tente Novamente:biel\n",
            "tentativas excedidas!\n"
          ]
        }
      ]
    },
    {
      "cell_type": "code",
      "source": [
        "#Testar a entrada do usuário\n",
        "#isdigit() Verificar se o que foi digitado é um número ou não\n",
        "num = input('digite um número:')\n",
        "num.isdigit()"
      ],
      "metadata": {
        "colab": {
          "base_uri": "https://localhost:8080/"
        },
        "id": "ySXwSc-CY0uJ",
        "outputId": "6f847100-ae45-4ed5-b311-a3775ee6c1ec"
      },
      "execution_count": 32,
      "outputs": [
        {
          "name": "stdout",
          "output_type": "stream",
          "text": [
            "digite um número:1\n"
          ]
        },
        {
          "output_type": "execute_result",
          "data": {
            "text/plain": [
              "True"
            ]
          },
          "metadata": {},
          "execution_count": 32
        }
      ]
    },
    {
      "cell_type": "code",
      "source": [
        "texto = input('digite ai:')\n",
        "texto.isalpha()"
      ],
      "metadata": {
        "colab": {
          "base_uri": "https://localhost:8080/"
        },
        "id": "_P8G1BlxakVo",
        "outputId": "53187bf7-c383-4457-8530-a4a62e47d1e8"
      },
      "execution_count": 33,
      "outputs": [
        {
          "name": "stdout",
          "output_type": "stream",
          "text": [
            "digite ai:a\n"
          ]
        },
        {
          "output_type": "execute_result",
          "data": {
            "text/plain": [
              "True"
            ]
          },
          "metadata": {},
          "execution_count": 33
        }
      ]
    },
    {
      "cell_type": "code",
      "source": [
        "#Solicitar que o usuário digite um nome. Caso ele digite um número, avise \"Entrada incorreta!\"\n",
        "\n",
        "nome = input('Digite o nome! ')\n",
        "if(nome.isdigit()):\n",
        "  print('Entrada incorreta!')\n",
        "else:\n",
        "  print(f'o nome {nome} foi inserido com sucesso')"
      ],
      "metadata": {
        "id": "QvUc_AZaaKDX"
      },
      "execution_count": null,
      "outputs": []
    },
    {
      "cell_type": "code",
      "source": [
        "#Solicitar que o usuário digite nomes de animais que serão inseridos em uma lista 'animais'.\n",
        "#O programa encerra quando um número for digitado. \n",
        "#ao final, exibe-se na tela a lista de animais.\n",
        "animais = []\n",
        "animal = input('Digite um nome de animal: ')\n",
        "\n",
        "while (animal.isdigit() == False):\n",
        "  animais.append(animal)\n",
        "  animal = input('Digite um nome de animal: ')\n",
        "\n",
        "animais"
      ],
      "metadata": {
        "colab": {
          "base_uri": "https://localhost:8080/"
        },
        "id": "VIvGAvAubVFS",
        "outputId": "e1b0444d-e120-4ab2-bafd-3a258b5dba9d"
      },
      "execution_count": 36,
      "outputs": [
        {
          "name": "stdout",
          "output_type": "stream",
          "text": [
            "Digite um nome de animal: pato\n",
            "Digite um nome de animal: mico-leão\n",
            "Digite um nome de animal: 1\n"
          ]
        },
        {
          "output_type": "execute_result",
          "data": {
            "text/plain": [
              "['pato', 'mico-leão']"
            ]
          },
          "metadata": {},
          "execution_count": 36
        }
      ]
    },
    {
      "cell_type": "code",
      "source": [
        "#Solicitar que o usuário digite nomes de cidades e as armazene em uma lista. \n",
        "#O programa termina caso o usuário digite \"fim\"\n"
      ],
      "metadata": {
        "id": "4Wb9_rOTdo-Y"
      },
      "execution_count": null,
      "outputs": []
    },
    {
      "cell_type": "code",
      "source": [
        "#Jogo adivinhe o número\n",
        "#Desenvolva um jogo de adivinhação que siga as seguintes regras:\n",
        "#1 - O jogo gera, aleatoriamente, um número secreto do tipo inteiro entre 0 e 100\n",
        "#2 - Solicita ao usuário que tente adivinhar o número entre 0 e 100.\n",
        "#3 - Um laço verifica se o número digitado é igual ao número secreto\n",
        "#4 - Se o número digitado for menor que o número secreto, o valor mínimo passa a ser o número digitado\n",
        "#5 - Se o número digitado for maior que o número secreto, o valor máximo passa a ser o número digitado\n",
        "#6 - se o jogador acertar, recebe uma mensagem de parabéns e o número de tentativas que foi necessária.\n",
        "###Para gerar inteiros aleatórios, importe from random import * e use a função randint()"
      ],
      "metadata": {
        "id": "ulV4Mm3qeAah"
      },
      "execution_count": null,
      "outputs": []
    }
  ]
}